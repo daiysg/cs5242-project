{
 "cells": [
  {
   "cell_type": "code",
   "execution_count": 1,
   "metadata": {},
   "outputs": [
    {
     "name": "stdout",
     "output_type": "stream",
     "text": [
      "./data/train.csv  - data shape =  (1000, 4096)\n",
      "./data/train_label.csv  - label shape =  (1000,)\n",
      "./data/test.csv  - data shape =  (1000, 4096)\n"
     ]
    }
   ],
   "source": [
    "# Read CSVs\n",
    "import load_data as ld\n",
    "\n",
    "# To load train and test data\n",
    "# No need to repeat loading data if just need to change training parameters\n",
    "in_height = 64\n",
    "in_width = 64\n",
    "num_rows = 1000\n",
    "\n",
    "inputs = ld.read_data('train.csv', in_height, in_width, nrows=num_rows)\n",
    "labels = ld.read_label('train_label.csv', nrows=num_rows)\n",
    "x_predict = ld.read_data('test.csv', in_height, in_width, nrows=num_rows)"
   ]
  },
  {
   "cell_type": "code",
   "execution_count": 2,
   "metadata": {},
   "outputs": [
    {
     "name": "stdout",
     "output_type": "stream",
     "text": [
      "x_train.shape (797, 4096)\n",
      "y_train.shape (797,)\n",
      "x_test.shape (203, 4096)\n",
      "y_test.shape (203,)\n"
     ]
    }
   ],
   "source": [
    "# split inputs for training and testing\n",
    "import numpy as np\n",
    "\n",
    "train_ratio = 0.8\n",
    "\n",
    "np.random.seed(0)\n",
    "mask = np.random.rand(inputs.shape[0]) <= train_ratio\n",
    "\n",
    "x_train = inputs[mask]\n",
    "y_train = labels[mask]\n",
    "x_test = inputs[~mask]\n",
    "y_test = labels[~mask]\n",
    "\n",
    "print(\"x_train.shape\", x_train.shape)\n",
    "print(\"y_train.shape\", y_train.shape)\n",
    "print(\"x_test.shape\", x_test.shape)\n",
    "print(\"y_test.shape\", y_test.shape)"
   ]
  },
  {
   "cell_type": "code",
   "execution_count": 3,
   "metadata": {},
   "outputs": [],
   "source": [
    "import tensorflow as tf\n",
    "from conv_net import conv_net\n",
    "\n",
    "learning_rate = 0.0001\n",
    "num_classes = 2  # total classes (0 or 1)\n",
    "dropout = 0.25  # Dropout, probability to drop a unit\n",
    "\n",
    "\n",
    "def model_fn(features, labels, mode):\n",
    "    # Build the neural network\n",
    "    # Because Dropout have different behavior at training and prediction time, we\n",
    "    # need to create 2 distinct computation graphs that still share the same weights.\n",
    "    logits_train = conv_net(features, num_classes, dropout, reuse=False,\n",
    "                            is_training=True)\n",
    "    logits_test = conv_net(features, num_classes, dropout, reuse=True,\n",
    "                           is_training=False)\n",
    "\n",
    "    # Predictions\n",
    "    pred_classes = tf.argmax(logits_test, axis=1)\n",
    "    pred_probas = tf.nn.softmax(logits_test)\n",
    "\n",
    "    # If prediction mode, early return\n",
    "    if mode == tf.estimator.ModeKeys.PREDICT:\n",
    "        return tf.estimator.EstimatorSpec(mode, predictions=pred_probas)\n",
    "\n",
    "    # Define loss and optimizer\n",
    "    loss_op = tf.reduce_mean(tf.nn.sparse_softmax_cross_entropy_with_logits(\n",
    "        logits=logits_train, labels=tf.cast(labels, dtype=tf.int32)))\n",
    "    optimizer = tf.train.AdamOptimizer(learning_rate=learning_rate)\n",
    "    train_op = optimizer.minimize(loss_op,\n",
    "                                  global_step=tf.train.get_global_step())\n",
    "\n",
    "    # Evaluate the accuracy of the model\n",
    "    acc_op = tf.metrics.accuracy(labels=labels, predictions=pred_classes)\n",
    "\n",
    "    print(\"Current accuracy of model\", acc_op)\n",
    "\n",
    "    # TF Estimators requires to return a EstimatorSpec, that specify\n",
    "    # the different ops for training, evaluating, ...\n",
    "    estim_specs = tf.estimator.EstimatorSpec(\n",
    "        mode=mode,\n",
    "        predictions=pred_classes,\n",
    "        loss=loss_op,\n",
    "        train_op=train_op,\n",
    "        eval_metric_ops={'accuracy': acc_op})\n",
    "\n",
    "    return estim_specs"
   ]
  },
  {
   "cell_type": "code",
   "execution_count": 4,
   "metadata": {},
   "outputs": [
    {
     "name": "stdout",
     "output_type": "stream",
     "text": [
      "INFO:tensorflow:Using config: {'_model_dir': './model', '_tf_random_seed': None, '_save_summary_steps': 100, '_save_checkpoints_steps': 10, '_save_checkpoints_secs': None, '_session_config': None, '_keep_checkpoint_max': 50, '_keep_checkpoint_every_n_hours': 10000, '_log_step_count_steps': 100, '_service': None, '_cluster_spec': <tensorflow.python.training.server_lib.ClusterSpec object at 0x11973ea20>, '_task_type': 'worker', '_task_id': 0, '_global_id_in_cluster': 0, '_master': '', '_evaluation_master': '', '_is_chief': True, '_num_ps_replicas': 0, '_num_worker_replicas': 1}\n",
      "INFO:tensorflow:Calling model_fn.\n",
      "WARNING:tensorflow:From /Users/zhongh/Documents/workspace/cs5242/project/cs5242-project/python3.6-tf1.7.0/lib/python3.6/site-packages/tensorflow/contrib/learn/python/learn/datasets/base.py:198: retry (from tensorflow.contrib.learn.python.learn.datasets.base) is deprecated and will be removed in a future version.\n",
      "Instructions for updating:\n",
      "Use the retry module or similar alternatives.\n",
      "Current accuracy of model (<tf.Tensor 'accuracy/value:0' shape=() dtype=float32>, <tf.Tensor 'accuracy/update_op:0' shape=() dtype=float32>)\n",
      "INFO:tensorflow:Done calling model_fn.\n",
      "INFO:tensorflow:Create CheckpointSaverHook.\n",
      "INFO:tensorflow:Graph was finalized.\n",
      "INFO:tensorflow:Running local_init_op.\n",
      "INFO:tensorflow:Done running local_init_op.\n",
      "INFO:tensorflow:Saving checkpoints for 1 into ./model/model.ckpt.\n",
      "INFO:tensorflow:loss = 2.892791, step = 1\n",
      "INFO:tensorflow:Saving checkpoints for 11 into ./model/model.ckpt.\n",
      "INFO:tensorflow:Saving checkpoints for 21 into ./model/model.ckpt.\n",
      "INFO:tensorflow:Saving checkpoints for 31 into ./model/model.ckpt.\n",
      "INFO:tensorflow:Saving checkpoints for 32 into ./model/model.ckpt.\n",
      "INFO:tensorflow:Loss for final step: 0.4812432.\n"
     ]
    },
    {
     "data": {
      "text/plain": [
       "<tensorflow.python.estimator.estimator.Estimator at 0x11973e9e8>"
      ]
     },
     "execution_count": 4,
     "metadata": {},
     "output_type": "execute_result"
    }
   ],
   "source": [
    "# Train the model\n",
    "import tensorflow as tf\n",
    "import csv\n",
    "\n",
    "train_epoch = 5\n",
    "batch_size = 128\n",
    "num_steps = None\n",
    "ckpt_steps = 10\n",
    "max_ckpt = 50\n",
    "\n",
    "rc = tf.estimator.RunConfig(model_dir = \"./model\", keep_checkpoint_max=max_ckpt, save_checkpoints_steps=ckpt_steps)\n",
    "model = tf.estimator.Estimator(model_fn, config=rc)\n",
    "# model = tf.estimator.Estimator(model_fn)\n",
    "\n",
    "# Define the input function for training\n",
    "input_fn = tf.estimator.inputs.numpy_input_fn(\n",
    "    x= {'file': x_train}, y=y_train,\n",
    "    batch_size=batch_size, num_epochs=train_epoch, shuffle=True)\n",
    "# Train the Model\n",
    "model.train(input_fn, steps=num_steps)"
   ]
  },
  {
   "cell_type": "code",
   "execution_count": 5,
   "metadata": {},
   "outputs": [
    {
     "name": "stdout",
     "output_type": "stream",
     "text": [
      "INFO:tensorflow:Calling model_fn.\n",
      "Current accuracy of model (<tf.Tensor 'accuracy/value:0' shape=() dtype=float32>, <tf.Tensor 'accuracy/update_op:0' shape=() dtype=float32>)\n",
      "INFO:tensorflow:Done calling model_fn.\n",
      "INFO:tensorflow:Starting evaluation at 2018-04-05-16:32:43\n",
      "INFO:tensorflow:Graph was finalized.\n",
      "INFO:tensorflow:Restoring parameters from ./model/model.ckpt-32\n",
      "INFO:tensorflow:Running local_init_op.\n",
      "INFO:tensorflow:Done running local_init_op.\n",
      "INFO:tensorflow:Finished evaluation at 2018-04-05-16:32:44\n",
      "INFO:tensorflow:Saving dict for global step 32: accuracy = 0.8669951, global_step = 32, loss = 1.0535719\n",
      "global_step: 32\n",
      "accuracy =  0.8669951 loss =  1.0535719\n"
     ]
    }
   ],
   "source": [
    "# Evaluate the Model\n",
    "# Define the input function for evaluating\n",
    "input_fn = tf.estimator.inputs.numpy_input_fn(\n",
    "    x={'file': x_test}, y=y_test,\n",
    "    batch_size=batch_size, shuffle=False)\n",
    "\n",
    "# Use the Estimator 'evaluate' method\n",
    "e = model.evaluate(input_fn)\n",
    "total_steps = e['global_step']\n",
    "print(\"global_step:\", e['global_step'])\n",
    "print('accuracy = ', e['accuracy'], \"loss = \", e['loss'])"
   ]
  },
  {
   "cell_type": "code",
   "execution_count": 8,
   "metadata": {},
   "outputs": [
    {
     "name": "stdout",
     "output_type": "stream",
     "text": [
      "total_steps =  32\n",
      "./model/model.ckpt-11\n",
      "INFO:tensorflow:Calling model_fn.\n",
      "Current accuracy of model (<tf.Tensor 'accuracy/value:0' shape=() dtype=float32>, <tf.Tensor 'accuracy/update_op:0' shape=() dtype=float32>)\n",
      "INFO:tensorflow:Done calling model_fn.\n",
      "INFO:tensorflow:Starting evaluation at 2018-04-05-16:33:54\n",
      "INFO:tensorflow:Graph was finalized.\n",
      "INFO:tensorflow:Restoring parameters from ./model/model.ckpt-11\n",
      "INFO:tensorflow:Running local_init_op.\n",
      "INFO:tensorflow:Done running local_init_op.\n",
      "INFO:tensorflow:Finished evaluation at 2018-04-05-16:33:55\n",
      "INFO:tensorflow:Saving dict for global step 11: accuracy = 0.6896552, global_step = 11, loss = 3.9306483\n",
      "./model/model.ckpt-21\n",
      "INFO:tensorflow:Calling model_fn.\n",
      "Current accuracy of model (<tf.Tensor 'accuracy/value:0' shape=() dtype=float32>, <tf.Tensor 'accuracy/update_op:0' shape=() dtype=float32>)\n",
      "INFO:tensorflow:Done calling model_fn.\n",
      "INFO:tensorflow:Starting evaluation at 2018-04-05-16:33:56\n",
      "INFO:tensorflow:Graph was finalized.\n",
      "INFO:tensorflow:Restoring parameters from ./model/model.ckpt-21\n",
      "INFO:tensorflow:Running local_init_op.\n",
      "INFO:tensorflow:Done running local_init_op.\n",
      "INFO:tensorflow:Finished evaluation at 2018-04-05-16:33:57\n",
      "INFO:tensorflow:Saving dict for global step 21: accuracy = 0.817734, global_step = 21, loss = 1.3341249\n",
      "./model/model.ckpt-31\n",
      "INFO:tensorflow:Calling model_fn.\n",
      "Current accuracy of model (<tf.Tensor 'accuracy/value:0' shape=() dtype=float32>, <tf.Tensor 'accuracy/update_op:0' shape=() dtype=float32>)\n",
      "INFO:tensorflow:Done calling model_fn.\n",
      "INFO:tensorflow:Starting evaluation at 2018-04-05-16:33:57\n",
      "INFO:tensorflow:Graph was finalized.\n",
      "INFO:tensorflow:Restoring parameters from ./model/model.ckpt-31\n",
      "INFO:tensorflow:Running local_init_op.\n",
      "INFO:tensorflow:Done running local_init_op.\n",
      "INFO:tensorflow:Finished evaluation at 2018-04-05-16:33:58\n",
      "INFO:tensorflow:Saving dict for global step 31: accuracy = 0.85714287, global_step = 31, loss = 0.88226604\n"
     ]
    }
   ],
   "source": [
    "# Evaluate checkpoints\n",
    "import pandas as pd\n",
    "\n",
    "print('total_steps = ', total_steps)\n",
    "\n",
    "total_ckpts = total_steps//ckpt_steps\n",
    "eval_results = np.zeros((total_ckpts, 3))\n",
    "\n",
    "for i in range(0, total_ckpts):\n",
    "    j = (i + 1) * ckpt_steps + 1\n",
    "    ckpt_path = './model/model.ckpt-' + str(j)\n",
    "    print(ckpt_path)\n",
    "    e = model.evaluate(input_fn, checkpoint_path=ckpt_path)\n",
    "    eval_results[i,:] = [j, e['accuracy'], e['loss']]\n",
    "    \n",
    "df = pd.DataFrame(eval_results)\n",
    "header = [\"step\",\"accuracy\", \"loss\"]\n",
    "df.to_csv('./data/eval_ckpts.csv', header=header, index=None)"
   ]
  },
  {
   "cell_type": "code",
   "execution_count": 9,
   "metadata": {},
   "outputs": [
    {
     "name": "stdout",
     "output_type": "stream",
     "text": [
      "INFO:tensorflow:Calling model_fn.\n",
      "INFO:tensorflow:Done calling model_fn.\n",
      "INFO:tensorflow:Graph was finalized.\n",
      "INFO:tensorflow:Restoring parameters from ./model/model.ckpt-32\n",
      "INFO:tensorflow:Running local_init_op.\n",
      "INFO:tensorflow:Done running local_init_op.\n"
     ]
    }
   ],
   "source": [
    "# Predict\n",
    "predict_input_fn = tf.estimator.inputs.numpy_input_fn(\n",
    "    x={'file': x_predict},\n",
    "    batch_size=batch_size, num_epochs=1, shuffle=False)\n",
    "\n",
    "results = model.predict(input_fn=predict_input_fn)\n",
    "\n",
    "i = 0\n",
    "with open('result.csv', 'w') as csvfile:\n",
    "    csv_writer = csv.writer(csvfile,)\n",
    "    csv_writer.writerow([\"sample_id\", \"malware\"])\n",
    "    for result in results:\n",
    "        csv_writer.writerow([i, result[1]])\n",
    "        i = i+1"
   ]
  }
 ],
 "metadata": {
  "kernelspec": {
   "display_name": "Python 3",
   "language": "python",
   "name": "python3"
  },
  "language_info": {
   "codemirror_mode": {
    "name": "ipython",
    "version": 3
   },
   "file_extension": ".py",
   "mimetype": "text/x-python",
   "name": "python",
   "nbconvert_exporter": "python",
   "pygments_lexer": "ipython3",
   "version": "3.6.5"
  }
 },
 "nbformat": 4,
 "nbformat_minor": 2
}
